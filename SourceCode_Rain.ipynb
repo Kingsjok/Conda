{
 "cells": [
  {
   "cell_type": "code",
   "execution_count": 225,
   "metadata": {
    "scrolled": true
   },
   "outputs": [
    {
     "name": "stdout",
     "output_type": "stream",
     "text": [
      "Size of weather data frame is : (142193, 24)\n",
      "(31877, 24)\n",
      "(31877, 24)\n"
     ]
    }
   ],
   "source": [
    "#Load the csv file as data frame.\n",
    "import numpy as np # linear algebra\n",
    "import pandas as pd # data processing, CSV file I/O (e.g. pd.read_csv)\n",
    "from sklearn import preprocessing\n",
    "\n",
    "df = pd.read_csv('./weatherAUS.csv')\n",
    "print('Size of weather data frame is :',df.shape)\n",
    "\n",
    "\n",
    "bad_columns = ['Location', 'WindGustDir', 'WindDir9am', 'WindDir3pm', 'RainToday', 'RainTomorrow']\n",
    "\n",
    "sdf = df[bad_columns].copy()\n",
    "\n",
    "\n",
    "for i in range(6):\n",
    "    le = preprocessing.LabelEncoder()\n",
    "    le.fit(sdf[bad_columns[i]].astype(str))\n",
    "    df[bad_columns[i]] = le.transform(sdf[bad_columns[i]].astype(str))\n",
    "\n",
    "import seaborn as sns\n",
    "import matplotlib.pyplot as plt\n",
    "#sns.heatmap(df.corr().abs())\n",
    "#plt.show()\n",
    "\n",
    "numRain = df.loc[df['RainTomorrow'] == 1].shape[0]\n",
    "\n",
    "df = pd.concat([df.loc[df['RainTomorrow'] == 1], df.loc[df['RainTomorrow'] == 0].sample(n=numRain)])\n",
    "print(df.loc[df['RainTomorrow'] == 1].shape)\n",
    "print(df.loc[df['RainTomorrow'] == 0].shape)"
   ]
  },
  {
   "cell_type": "code",
   "execution_count": 226,
   "metadata": {
    "scrolled": false
   },
   "outputs": [
    {
     "data": {
      "text/plain": [
       "Sunshine         33531\n",
       "Evaporation      36287\n",
       "Cloud3pm         39032\n",
       "Cloud9am         40306\n",
       "Pressure9am      57519\n",
       "Pressure3pm      57545\n",
       "WindGustSpeed    59346\n",
       "Humidity3pm      62030\n",
       "Temp3pm          62444\n",
       "WindSpeed3pm     62519\n",
       "Humidity9am      62834\n",
       "Rainfall         62856\n",
       "WindSpeed9am     63104\n",
       "Temp9am          63252\n",
       "MinTemp          63418\n",
       "MaxTemp          63617\n",
       "RainToday        63754\n",
       "Date             63754\n",
       "WindDir3pm       63754\n",
       "WindDir9am       63754\n",
       "WindGustDir      63754\n",
       "Location         63754\n",
       "RISK_MM          63754\n",
       "RainTomorrow     63754\n",
       "dtype: int64"
      ]
     },
     "execution_count": 226,
     "metadata": {},
     "output_type": "execute_result"
    }
   ],
   "source": [
    "# We see there are some columns with null values. \n",
    "# Before we start pre-processing, let's find out which of the columns have maximum null values\n",
    "df.count().sort_values()"
   ]
  },
  {
   "cell_type": "code",
   "execution_count": 227,
   "metadata": {},
   "outputs": [
    {
     "data": {
      "text/plain": [
       "(63754, 22)"
      ]
     },
     "execution_count": 227,
     "metadata": {},
     "output_type": "execute_result"
    }
   ],
   "source": [
    "# Features selection: We suppose that wind doesnt contribute to precipitation, so as the location and RISK_MM, \n",
    "# since we only want to predict wether it rains tommorrow in australian. The date is not important since we already \n",
    "# have RainTomorrow as target variable\n",
    "#df = df.drop(columns=['WindDir9am','WindDir3pm','WindSpeed9am','WindSpeed3pm','WindGustDir','WindGustSpeed',\n",
    "#                      'Location','RISK_MM','Date'],axis=1)\n",
    "df = df.drop(columns=['Date', 'RISK_MM'],axis=1)\n",
    "df.shape"
   ]
  },
  {
   "cell_type": "code",
   "execution_count": 228,
   "metadata": {},
   "outputs": [
    {
     "data": {
      "text/plain": [
       "(25916, 22)"
      ]
     },
     "execution_count": 228,
     "metadata": {},
     "output_type": "execute_result"
    }
   ],
   "source": [
    "#Let us get rid of all null values in df\n",
    "df = df.dropna(how='any')\n",
    "df.shape"
   ]
  },
  {
   "cell_type": "code",
   "execution_count": 229,
   "metadata": {
    "scrolled": true
   },
   "outputs": [
    {
     "name": "stdout",
     "output_type": "stream",
     "text": [
      "[[1.22201422 1.17956147 1.99893258 ... 1.77934597 0.66002303 1.01783144]\n",
      " [1.22201422 1.24101008 1.02908447 ... 0.79305896 0.66002303 1.01783144]\n",
      " [1.22201422 1.0105778  1.7849955  ... 1.67781642 1.51509865 1.01783144]\n",
      " ...\n",
      " [0.58713737 0.08884867 1.49974606 ... 1.54727844 0.66002303 0.98248095]\n",
      " [1.22201422 1.49345299 0.86782432 ... 0.68637156 0.66002303 0.98248095]\n",
      " [1.14265462 0.68797261 0.78662245 ... 0.8945885  0.66002303 0.98248095]]\n",
      "(24369, 22)\n"
     ]
    },
    {
     "data": {
      "text/html": [
       "<div>\n",
       "<style scoped>\n",
       "    .dataframe tbody tr th:only-of-type {\n",
       "        vertical-align: middle;\n",
       "    }\n",
       "\n",
       "    .dataframe tbody tr th {\n",
       "        vertical-align: top;\n",
       "    }\n",
       "\n",
       "    .dataframe thead th {\n",
       "        text-align: right;\n",
       "    }\n",
       "</style>\n",
       "<table border=\"1\" class=\"dataframe\">\n",
       "  <thead>\n",
       "    <tr style=\"text-align: right;\">\n",
       "      <th></th>\n",
       "      <th>Location</th>\n",
       "      <th>MinTemp</th>\n",
       "      <th>MaxTemp</th>\n",
       "      <th>Rainfall</th>\n",
       "      <th>Evaporation</th>\n",
       "      <th>Sunshine</th>\n",
       "      <th>WindGustDir</th>\n",
       "      <th>WindGustSpeed</th>\n",
       "      <th>WindDir9am</th>\n",
       "      <th>WindDir3pm</th>\n",
       "      <th>...</th>\n",
       "      <th>Humidity9am</th>\n",
       "      <th>Humidity3pm</th>\n",
       "      <th>Pressure9am</th>\n",
       "      <th>Pressure3pm</th>\n",
       "      <th>Cloud9am</th>\n",
       "      <th>Cloud3pm</th>\n",
       "      <th>Temp9am</th>\n",
       "      <th>Temp3pm</th>\n",
       "      <th>RainToday</th>\n",
       "      <th>RainTomorrow</th>\n",
       "    </tr>\n",
       "  </thead>\n",
       "  <tbody>\n",
       "    <tr>\n",
       "      <th>5957</th>\n",
       "      <td>10</td>\n",
       "      <td>21.4</td>\n",
       "      <td>37.5</td>\n",
       "      <td>0.0</td>\n",
       "      <td>14.8</td>\n",
       "      <td>6.9</td>\n",
       "      <td>5</td>\n",
       "      <td>43.0</td>\n",
       "      <td>1</td>\n",
       "      <td>5</td>\n",
       "      <td>...</td>\n",
       "      <td>34.0</td>\n",
       "      <td>29.0</td>\n",
       "      <td>1013.1</td>\n",
       "      <td>1009.6</td>\n",
       "      <td>7.0</td>\n",
       "      <td>6.0</td>\n",
       "      <td>26.2</td>\n",
       "      <td>34.1</td>\n",
       "      <td>0</td>\n",
       "      <td>1</td>\n",
       "    </tr>\n",
       "    <tr>\n",
       "      <th>5960</th>\n",
       "      <td>10</td>\n",
       "      <td>21.8</td>\n",
       "      <td>30.7</td>\n",
       "      <td>0.0</td>\n",
       "      <td>8.0</td>\n",
       "      <td>5.9</td>\n",
       "      <td>14</td>\n",
       "      <td>56.0</td>\n",
       "      <td>3</td>\n",
       "      <td>3</td>\n",
       "      <td>...</td>\n",
       "      <td>71.0</td>\n",
       "      <td>63.0</td>\n",
       "      <td>1008.6</td>\n",
       "      <td>1006.2</td>\n",
       "      <td>7.0</td>\n",
       "      <td>7.0</td>\n",
       "      <td>24.4</td>\n",
       "      <td>27.3</td>\n",
       "      <td>0</td>\n",
       "      <td>1</td>\n",
       "    </tr>\n",
       "    <tr>\n",
       "      <th>5972</th>\n",
       "      <td>10</td>\n",
       "      <td>23.6</td>\n",
       "      <td>40.4</td>\n",
       "      <td>0.6</td>\n",
       "      <td>11.8</td>\n",
       "      <td>12.2</td>\n",
       "      <td>15</td>\n",
       "      <td>54.0</td>\n",
       "      <td>0</td>\n",
       "      <td>11</td>\n",
       "      <td>...</td>\n",
       "      <td>42.0</td>\n",
       "      <td>17.0</td>\n",
       "      <td>1008.4</td>\n",
       "      <td>1005.0</td>\n",
       "      <td>1.0</td>\n",
       "      <td>2.0</td>\n",
       "      <td>29.9</td>\n",
       "      <td>38.7</td>\n",
       "      <td>0</td>\n",
       "      <td>1</td>\n",
       "    </tr>\n",
       "    <tr>\n",
       "      <th>5982</th>\n",
       "      <td>10</td>\n",
       "      <td>16.8</td>\n",
       "      <td>23.3</td>\n",
       "      <td>0.6</td>\n",
       "      <td>8.0</td>\n",
       "      <td>2.3</td>\n",
       "      <td>0</td>\n",
       "      <td>63.0</td>\n",
       "      <td>0</td>\n",
       "      <td>0</td>\n",
       "      <td>...</td>\n",
       "      <td>66.0</td>\n",
       "      <td>53.0</td>\n",
       "      <td>1013.8</td>\n",
       "      <td>1012.2</td>\n",
       "      <td>7.0</td>\n",
       "      <td>7.0</td>\n",
       "      <td>18.5</td>\n",
       "      <td>22.4</td>\n",
       "      <td>0</td>\n",
       "      <td>1</td>\n",
       "    </tr>\n",
       "    <tr>\n",
       "      <th>5983</th>\n",
       "      <td>10</td>\n",
       "      <td>16.1</td>\n",
       "      <td>19.1</td>\n",
       "      <td>26.0</td>\n",
       "      <td>6.6</td>\n",
       "      <td>0.0</td>\n",
       "      <td>2</td>\n",
       "      <td>54.0</td>\n",
       "      <td>2</td>\n",
       "      <td>2</td>\n",
       "      <td>...</td>\n",
       "      <td>81.0</td>\n",
       "      <td>93.0</td>\n",
       "      <td>1014.3</td>\n",
       "      <td>1013.2</td>\n",
       "      <td>7.0</td>\n",
       "      <td>7.0</td>\n",
       "      <td>17.1</td>\n",
       "      <td>17.0</td>\n",
       "      <td>1</td>\n",
       "      <td>1</td>\n",
       "    </tr>\n",
       "  </tbody>\n",
       "</table>\n",
       "<p>5 rows × 22 columns</p>\n",
       "</div>"
      ],
      "text/plain": [
       "      Location  MinTemp  MaxTemp  Rainfall  Evaporation  Sunshine  \\\n",
       "5957        10     21.4     37.5       0.0         14.8       6.9   \n",
       "5960        10     21.8     30.7       0.0          8.0       5.9   \n",
       "5972        10     23.6     40.4       0.6         11.8      12.2   \n",
       "5982        10     16.8     23.3       0.6          8.0       2.3   \n",
       "5983        10     16.1     19.1      26.0          6.6       0.0   \n",
       "\n",
       "      WindGustDir  WindGustSpeed  WindDir9am  WindDir3pm      ...       \\\n",
       "5957            5           43.0           1           5      ...        \n",
       "5960           14           56.0           3           3      ...        \n",
       "5972           15           54.0           0          11      ...        \n",
       "5982            0           63.0           0           0      ...        \n",
       "5983            2           54.0           2           2      ...        \n",
       "\n",
       "      Humidity9am  Humidity3pm  Pressure9am  Pressure3pm  Cloud9am  Cloud3pm  \\\n",
       "5957         34.0         29.0       1013.1       1009.6       7.0       6.0   \n",
       "5960         71.0         63.0       1008.6       1006.2       7.0       7.0   \n",
       "5972         42.0         17.0       1008.4       1005.0       1.0       2.0   \n",
       "5982         66.0         53.0       1013.8       1012.2       7.0       7.0   \n",
       "5983         81.0         93.0       1014.3       1013.2       7.0       7.0   \n",
       "\n",
       "      Temp9am  Temp3pm  RainToday  RainTomorrow  \n",
       "5957     26.2     34.1          0             1  \n",
       "5960     24.4     27.3          0             1  \n",
       "5972     29.9     38.7          0             1  \n",
       "5982     18.5     22.4          0             1  \n",
       "5983     17.1     17.0          1             1  \n",
       "\n",
       "[5 rows x 22 columns]"
      ]
     },
     "execution_count": 229,
     "metadata": {},
     "output_type": "execute_result"
    }
   ],
   "source": [
    "#its time to remove the outliers in our data - we are using Z-score to detect and remove the outliers.\n",
    "from scipy import stats\n",
    "z = np.abs(stats.zscore(df._get_numeric_data()))\n",
    "print(z)\n",
    "df= df[(z < 3).all(axis=1)]\n",
    "print(df.shape)\n",
    "df[0:5]"
   ]
  },
  {
   "cell_type": "code",
   "execution_count": 230,
   "metadata": {},
   "outputs": [
    {
     "data": {
      "text/html": [
       "<div>\n",
       "<style scoped>\n",
       "    .dataframe tbody tr th:only-of-type {\n",
       "        vertical-align: middle;\n",
       "    }\n",
       "\n",
       "    .dataframe tbody tr th {\n",
       "        vertical-align: top;\n",
       "    }\n",
       "\n",
       "    .dataframe thead th {\n",
       "        text-align: right;\n",
       "    }\n",
       "</style>\n",
       "<table border=\"1\" class=\"dataframe\">\n",
       "  <thead>\n",
       "    <tr style=\"text-align: right;\">\n",
       "      <th></th>\n",
       "      <th>Location</th>\n",
       "      <th>MinTemp</th>\n",
       "      <th>MaxTemp</th>\n",
       "      <th>Rainfall</th>\n",
       "      <th>Evaporation</th>\n",
       "      <th>Sunshine</th>\n",
       "      <th>WindGustDir</th>\n",
       "      <th>WindGustSpeed</th>\n",
       "      <th>WindDir9am</th>\n",
       "      <th>WindDir3pm</th>\n",
       "      <th>...</th>\n",
       "      <th>Humidity9am</th>\n",
       "      <th>Humidity3pm</th>\n",
       "      <th>Pressure9am</th>\n",
       "      <th>Pressure3pm</th>\n",
       "      <th>Cloud9am</th>\n",
       "      <th>Cloud3pm</th>\n",
       "      <th>Temp9am</th>\n",
       "      <th>Temp3pm</th>\n",
       "      <th>RainToday</th>\n",
       "      <th>RainTomorrow</th>\n",
       "    </tr>\n",
       "  </thead>\n",
       "  <tbody>\n",
       "    <tr>\n",
       "      <th>5957</th>\n",
       "      <td>0.155556</td>\n",
       "      <td>0.762178</td>\n",
       "      <td>0.828784</td>\n",
       "      <td>0.000000</td>\n",
       "      <td>0.9250</td>\n",
       "      <td>0.492857</td>\n",
       "      <td>0.3125</td>\n",
       "      <td>0.447368</td>\n",
       "      <td>0.0625</td>\n",
       "      <td>0.3125</td>\n",
       "      <td>...</td>\n",
       "      <td>0.223529</td>\n",
       "      <td>0.282828</td>\n",
       "      <td>0.430233</td>\n",
       "      <td>0.400932</td>\n",
       "      <td>0.875</td>\n",
       "      <td>0.750</td>\n",
       "      <td>0.720548</td>\n",
       "      <td>0.783505</td>\n",
       "      <td>0.0</td>\n",
       "      <td>1.0</td>\n",
       "    </tr>\n",
       "    <tr>\n",
       "      <th>5960</th>\n",
       "      <td>0.155556</td>\n",
       "      <td>0.773639</td>\n",
       "      <td>0.660050</td>\n",
       "      <td>0.000000</td>\n",
       "      <td>0.5000</td>\n",
       "      <td>0.421429</td>\n",
       "      <td>0.8750</td>\n",
       "      <td>0.618421</td>\n",
       "      <td>0.1875</td>\n",
       "      <td>0.1875</td>\n",
       "      <td>...</td>\n",
       "      <td>0.658824</td>\n",
       "      <td>0.626263</td>\n",
       "      <td>0.325581</td>\n",
       "      <td>0.321678</td>\n",
       "      <td>0.875</td>\n",
       "      <td>0.875</td>\n",
       "      <td>0.671233</td>\n",
       "      <td>0.608247</td>\n",
       "      <td>0.0</td>\n",
       "      <td>1.0</td>\n",
       "    </tr>\n",
       "    <tr>\n",
       "      <th>5972</th>\n",
       "      <td>0.155556</td>\n",
       "      <td>0.825215</td>\n",
       "      <td>0.900744</td>\n",
       "      <td>0.020134</td>\n",
       "      <td>0.7375</td>\n",
       "      <td>0.871429</td>\n",
       "      <td>0.9375</td>\n",
       "      <td>0.592105</td>\n",
       "      <td>0.0000</td>\n",
       "      <td>0.6875</td>\n",
       "      <td>...</td>\n",
       "      <td>0.317647</td>\n",
       "      <td>0.161616</td>\n",
       "      <td>0.320930</td>\n",
       "      <td>0.293706</td>\n",
       "      <td>0.125</td>\n",
       "      <td>0.250</td>\n",
       "      <td>0.821918</td>\n",
       "      <td>0.902062</td>\n",
       "      <td>0.0</td>\n",
       "      <td>1.0</td>\n",
       "    </tr>\n",
       "    <tr>\n",
       "      <th>5982</th>\n",
       "      <td>0.155556</td>\n",
       "      <td>0.630372</td>\n",
       "      <td>0.476427</td>\n",
       "      <td>0.020134</td>\n",
       "      <td>0.5000</td>\n",
       "      <td>0.164286</td>\n",
       "      <td>0.0000</td>\n",
       "      <td>0.710526</td>\n",
       "      <td>0.0000</td>\n",
       "      <td>0.0000</td>\n",
       "      <td>...</td>\n",
       "      <td>0.600000</td>\n",
       "      <td>0.525253</td>\n",
       "      <td>0.446512</td>\n",
       "      <td>0.461538</td>\n",
       "      <td>0.875</td>\n",
       "      <td>0.875</td>\n",
       "      <td>0.509589</td>\n",
       "      <td>0.481959</td>\n",
       "      <td>0.0</td>\n",
       "      <td>1.0</td>\n",
       "    </tr>\n",
       "    <tr>\n",
       "      <th>5983</th>\n",
       "      <td>0.155556</td>\n",
       "      <td>0.610315</td>\n",
       "      <td>0.372208</td>\n",
       "      <td>0.872483</td>\n",
       "      <td>0.4125</td>\n",
       "      <td>0.000000</td>\n",
       "      <td>0.1250</td>\n",
       "      <td>0.592105</td>\n",
       "      <td>0.1250</td>\n",
       "      <td>0.1250</td>\n",
       "      <td>...</td>\n",
       "      <td>0.776471</td>\n",
       "      <td>0.929293</td>\n",
       "      <td>0.458140</td>\n",
       "      <td>0.484848</td>\n",
       "      <td>0.875</td>\n",
       "      <td>0.875</td>\n",
       "      <td>0.471233</td>\n",
       "      <td>0.342784</td>\n",
       "      <td>1.0</td>\n",
       "      <td>1.0</td>\n",
       "    </tr>\n",
       "  </tbody>\n",
       "</table>\n",
       "<p>5 rows × 22 columns</p>\n",
       "</div>"
      ],
      "text/plain": [
       "      Location   MinTemp   MaxTemp  Rainfall  Evaporation  Sunshine  \\\n",
       "5957  0.155556  0.762178  0.828784  0.000000       0.9250  0.492857   \n",
       "5960  0.155556  0.773639  0.660050  0.000000       0.5000  0.421429   \n",
       "5972  0.155556  0.825215  0.900744  0.020134       0.7375  0.871429   \n",
       "5982  0.155556  0.630372  0.476427  0.020134       0.5000  0.164286   \n",
       "5983  0.155556  0.610315  0.372208  0.872483       0.4125  0.000000   \n",
       "\n",
       "      WindGustDir  WindGustSpeed  WindDir9am  WindDir3pm      ...       \\\n",
       "5957       0.3125       0.447368      0.0625      0.3125      ...        \n",
       "5960       0.8750       0.618421      0.1875      0.1875      ...        \n",
       "5972       0.9375       0.592105      0.0000      0.6875      ...        \n",
       "5982       0.0000       0.710526      0.0000      0.0000      ...        \n",
       "5983       0.1250       0.592105      0.1250      0.1250      ...        \n",
       "\n",
       "      Humidity9am  Humidity3pm  Pressure9am  Pressure3pm  Cloud9am  Cloud3pm  \\\n",
       "5957     0.223529     0.282828     0.430233     0.400932     0.875     0.750   \n",
       "5960     0.658824     0.626263     0.325581     0.321678     0.875     0.875   \n",
       "5972     0.317647     0.161616     0.320930     0.293706     0.125     0.250   \n",
       "5982     0.600000     0.525253     0.446512     0.461538     0.875     0.875   \n",
       "5983     0.776471     0.929293     0.458140     0.484848     0.875     0.875   \n",
       "\n",
       "       Temp9am   Temp3pm  RainToday  RainTomorrow  \n",
       "5957  0.720548  0.783505        0.0           1.0  \n",
       "5960  0.671233  0.608247        0.0           1.0  \n",
       "5972  0.821918  0.902062        0.0           1.0  \n",
       "5982  0.509589  0.481959        0.0           1.0  \n",
       "5983  0.471233  0.342784        1.0           1.0  \n",
       "\n",
       "[5 rows x 22 columns]"
      ]
     },
     "execution_count": 230,
     "metadata": {},
     "output_type": "execute_result"
    }
   ],
   "source": [
    "# Standardize data - using MinMaxScaler\n",
    "from sklearn import preprocessing\n",
    "scaler = preprocessing.MinMaxScaler()\n",
    "scaler.fit(df)\n",
    "df = pd.DataFrame(scaler.transform(df), index=df.index, columns=df.columns)\n",
    "df[0:5]"
   ]
  },
  {
   "cell_type": "code",
   "execution_count": 231,
   "metadata": {},
   "outputs": [
    {
     "name": "stdout",
     "output_type": "stream",
     "text": [
      "[ 5 13 16 17 20]\n",
      "Index(['Sunshine', 'Humidity3pm', 'Cloud9am', 'Cloud3pm', 'RainToday'], dtype='object')\n"
     ]
    },
    {
     "name": "stderr",
     "output_type": "stream",
     "text": [
      "C:\\Users\\arner\\Anaconda3\\lib\\site-packages\\sklearn\\utils\\validation.py:578: DataConversionWarning: A column-vector y was passed when a 1d array was expected. Please change the shape of y to (n_samples, ), for example using ravel().\n",
      "  y = column_or_1d(y, warn=True)\n"
     ]
    }
   ],
   "source": [
    "#now that we are done with the pre-processing part, let's see which are the important features for RainTomorrow!\n",
    "#Using SelectKBest to get the top features!\n",
    "from sklearn.feature_selection import SelectKBest,chi2,f_classif\n",
    "X = df.loc[:,df.columns!='RainTomorrow']\n",
    "y = df[['RainTomorrow']]\n",
    "selector = SelectKBest(f_classif, k=5)\n",
    "selector.fit(X, y)         # Run score function on (X, y) and get the appropriate features.\n",
    "X_new = selector.transform(X) # Reduce X to the selected features. (numpy.ndarray)\n",
    "print (selector.get_support(indices=True))\n",
    "print(X.columns[selector.get_support(indices=True)]) #get_support Get a mask, or integer index, of the features selected"
   ]
  },
  {
   "cell_type": "code",
   "execution_count": 232,
   "metadata": {},
   "outputs": [],
   "source": [
    "df = df[['Sunshine','RainTomorrow']] # rearrange columns\n",
    "X = df[['Sunshine']] # Trainingsets\n",
    "y = df[['RainTomorrow']] # Target Variable"
   ]
  },
  {
   "cell_type": "code",
   "execution_count": 236,
   "metadata": {},
   "outputs": [
    {
     "name": "stderr",
     "output_type": "stream",
     "text": [
      "C:\\Users\\arner\\Anaconda3\\lib\\site-packages\\ipykernel_launcher.py:9: DataConversionWarning: A column-vector y was passed when a 1d array was expected. Please change the shape of y to (n_samples,), for example using ravel().\n",
      "  if __name__ == '__main__':\n"
     ]
    },
    {
     "name": "stdout",
     "output_type": "stream",
     "text": [
      "Accuracy : 0.7313310356146397\n",
      "Time taken : 0.5311212539672852\n"
     ]
    }
   ],
   "source": [
    "#Random Forest Classifier \n",
    "from sklearn.ensemble import RandomForestClassifier\n",
    "from sklearn.model_selection import train_test_split\n",
    "from sklearn.metrics import accuracy_score\n",
    "import time\n",
    "t0=time.time()\n",
    "X_train,X_test,y_train,y_test = train_test_split(X,y,test_size=0.25)\n",
    "clf_rf = RandomForestClassifier(n_estimators=101, max_depth=4,random_state=0)\n",
    "clf_rf.fit(X_train,y_train)\n",
    "y_pred = clf_rf.predict(X_test)\n",
    "score = accuracy_score(y_test,y_pred)\n",
    "print('Accuracy :',score)\n",
    "print('Time taken :' , time.time()-t0)"
   ]
  },
  {
   "cell_type": "code",
   "execution_count": 133,
   "metadata": {},
   "outputs": [
    {
     "name": "stdout",
     "output_type": "stream",
     "text": [
      "Accuracy : 0.7798934850806157\n",
      "Time taken : 0.1249690055847168\n"
     ]
    }
   ],
   "source": [
    "#Decision Tree Classifier\n",
    "from sklearn.tree import DecisionTreeClassifier\n",
    "from sklearn.model_selection import train_test_split\n",
    "\n",
    "t0=time.time()\n",
    "X_train,X_test,y_train,y_test = train_test_split(X,y,test_size=0.25)\n",
    "clf_dt = DecisionTreeClassifier(random_state=0)\n",
    "clf_dt.fit(X_train,y_train)\n",
    "y_pred = clf_dt.predict(X_test)\n",
    "score = accuracy_score(y_test,y_pred)\n",
    "print('Accuracy :',score)\n",
    "print('Time taken :' , time.time()-t0)"
   ]
  },
  {
   "cell_type": "code",
   "execution_count": 96,
   "metadata": {},
   "outputs": [
    {
     "name": "stderr",
     "output_type": "stream",
     "text": [
      "C:\\Users\\arner\\Anaconda3\\lib\\site-packages\\sklearn\\utils\\validation.py:578: DataConversionWarning: A column-vector y was passed when a 1d array was expected. Please change the shape of y to (n_samples, ), for example using ravel().\n",
      "  y = column_or_1d(y, warn=True)\n",
      "C:\\Users\\arner\\Anaconda3\\lib\\site-packages\\ipykernel_launcher.py:14: DataConversionWarning: A column-vector y was passed when a 1d array was expected. Please change the shape of y to (n_samples,), for example using ravel().\n",
      "  \n"
     ]
    },
    {
     "name": "stdout",
     "output_type": "stream",
     "text": [
      "LogisticReg Accuracy : 0.8374553148026556\n",
      "RandomForest Accuracy : 0.8151309549865032\n",
      "DecisionTrree Accuracy : 0.7771941343838914\n",
      "Bernoulli Accuracy : 0.8022178448967681\n"
     ]
    },
    {
     "name": "stderr",
     "output_type": "stream",
     "text": [
      "C:\\Users\\arner\\Anaconda3\\lib\\site-packages\\sklearn\\utils\\validation.py:578: DataConversionWarning: A column-vector y was passed when a 1d array was expected. Please change the shape of y to (n_samples, ), for example using ravel().\n",
      "  y = column_or_1d(y, warn=True)\n",
      "C:\\Users\\arner\\Anaconda3\\lib\\site-packages\\sklearn\\utils\\validation.py:578: DataConversionWarning: A column-vector y was passed when a 1d array was expected. Please change the shape of y to (n_samples, ), for example using ravel().\n",
      "  y = column_or_1d(y, warn=True)\n"
     ]
    },
    {
     "name": "stdout",
     "output_type": "stream",
     "text": [
      "SVC Accuracy : 0.8370905376814766\n"
     ]
    }
   ],
   "source": [
    "from sklearn.linear_model import LogisticRegression\n",
    "from sklearn.ensemble import RandomForestClassifier\n",
    "from sklearn.tree import DecisionTreeClassifier\n",
    "from sklearn.neighbors import NearestNeighbors\n",
    "from sklearn.naive_bayes import BernoulliNB\n",
    "from sklearn.svm import SVC\n",
    "\n",
    "names = [ 'LogisticReg', 'RandomForest', 'DecisionTrree', 'Bernoulli', 'SVC']\n",
    "models = [ LogisticRegression(), RandomForestClassifier(), DecisionTreeClassifier(), BernoulliNB(), SVC() ]\n",
    "\n",
    "X_train,X_test,y_train,y_test = train_test_split(X,y,test_size=0.25)\n",
    "\n",
    "for name, model in zip(names, models):\n",
    "    model.fit(X_train,y_train)\n",
    "    y_pred = model.predict(X_test)\n",
    "    score = accuracy_score(y_test,y_pred)\n",
    "    print(name + ' Accuracy :',score)\n",
    "    "
   ]
  },
  {
   "cell_type": "code",
   "execution_count": 120,
   "metadata": {},
   "outputs": [
    {
     "name": "stdout",
     "output_type": "stream",
     "text": [
      " Accuracy : 0.8374553148026556\n"
     ]
    },
    {
     "name": "stderr",
     "output_type": "stream",
     "text": [
      "C:\\Users\\arner\\Anaconda3\\lib\\site-packages\\sklearn\\utils\\validation.py:578: DataConversionWarning: A column-vector y was passed when a 1d array was expected. Please change the shape of y to (n_samples, ), for example using ravel().\n",
      "  y = column_or_1d(y, warn=True)\n"
     ]
    }
   ],
   "source": [
    "model = LogisticRegression(penalty='l2', dual=True, \n",
    "                           tol=0.1, C=1, \n",
    "                           intercept_scaling=1,\n",
    "                           max_iter=100)\n",
    "\n",
    "\n",
    "model.fit(X_train,y_train)\n",
    "y_pred = model.predict(X_test)\n",
    "score = accuracy_score(y_test,y_pred)\n",
    "print(' Accuracy :',score)\n",
    "    "
   ]
  },
  {
   "cell_type": "code",
   "execution_count": null,
   "metadata": {},
   "outputs": [],
   "source": []
  },
  {
   "cell_type": "code",
   "execution_count": null,
   "metadata": {},
   "outputs": [],
   "source": []
  },
  {
   "cell_type": "code",
   "execution_count": null,
   "metadata": {},
   "outputs": [],
   "source": []
  },
  {
   "cell_type": "code",
   "execution_count": null,
   "metadata": {},
   "outputs": [],
   "source": []
  }
 ],
 "metadata": {
  "kernelspec": {
   "display_name": "Python 3",
   "language": "python",
   "name": "python3"
  },
  "language_info": {
   "codemirror_mode": {
    "name": "ipython",
    "version": 3
   },
   "file_extension": ".py",
   "mimetype": "text/x-python",
   "name": "python",
   "nbconvert_exporter": "python",
   "pygments_lexer": "ipython3",
   "version": "3.6.5"
  }
 },
 "nbformat": 4,
 "nbformat_minor": 2
}
